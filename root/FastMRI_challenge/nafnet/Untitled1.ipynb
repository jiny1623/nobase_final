{
 "cells": [
  {
   "cell_type": "code",
   "execution_count": 22,
   "id": "dd5f3931",
   "metadata": {},
   "outputs": [
    {
     "name": "stdout",
     "output_type": "stream",
     "text": [
      "<KeysViewHDF5 []>\n"
     ]
    },
    {
     "ename": "KeyError",
     "evalue": "\"Unable to open object (object 'image_grappa' doesn't exist)\"",
     "output_type": "error",
     "traceback": [
      "\u001b[0;31m---------------------------------------------------------------------------\u001b[0m",
      "\u001b[0;31mKeyError\u001b[0m                                  Traceback (most recent call last)",
      "Cell \u001b[0;32mIn[22], line 10\u001b[0m\n\u001b[1;32m      8\u001b[0m     \u001b[38;5;28;01mwith\u001b[39;00m h5py\u001b[38;5;241m.\u001b[39mFile(fname, \u001b[38;5;124m\"\u001b[39m\u001b[38;5;124mr\u001b[39m\u001b[38;5;124m\"\u001b[39m) \u001b[38;5;28;01mas\u001b[39;00m hf:\n\u001b[1;32m      9\u001b[0m         \u001b[38;5;28mprint\u001b[39m(hf\u001b[38;5;241m.\u001b[39mkeys()) \u001b[38;5;66;03m# ['image_grappa', 'image_input', 'image_label']\u001b[39;00m\n\u001b[0;32m---> 10\u001b[0m         \u001b[38;5;28mprint\u001b[39m(\u001b[43mhf\u001b[49m\u001b[43m[\u001b[49m\u001b[38;5;124;43m'\u001b[39;49m\u001b[38;5;124;43mimage_grappa\u001b[39;49m\u001b[38;5;124;43m'\u001b[39;49m\u001b[43m]\u001b[49m\u001b[38;5;241m.\u001b[39mshape) \u001b[38;5;66;03m# (16, 384, 384)\u001b[39;00m\n\u001b[1;32m     11\u001b[0m         \u001b[38;5;28mprint\u001b[39m(hf[\u001b[38;5;124m'\u001b[39m\u001b[38;5;124mimage_input\u001b[39m\u001b[38;5;124m'\u001b[39m]\u001b[38;5;241m.\u001b[39mshape) \u001b[38;5;66;03m# (16, 384, 384)\u001b[39;00m\n\u001b[1;32m     12\u001b[0m \u001b[38;5;66;03m#         print(hf['image_label'].shape) # (16, 384, 384)\u001b[39;00m\n\u001b[1;32m     13\u001b[0m \u001b[38;5;66;03m#         print(fname)\u001b[39;00m\n\u001b[1;32m     14\u001b[0m \u001b[38;5;66;03m#         print(hf.attrs['max'])\u001b[39;00m\n",
      "File \u001b[0;32mh5py/_objects.pyx:54\u001b[0m, in \u001b[0;36mh5py._objects.with_phil.wrapper\u001b[0;34m()\u001b[0m\n",
      "File \u001b[0;32mh5py/_objects.pyx:55\u001b[0m, in \u001b[0;36mh5py._objects.with_phil.wrapper\u001b[0;34m()\u001b[0m\n",
      "File \u001b[0;32m/usr/local/lib/python3.8/dist-packages/h5py/_hl/group.py:357\u001b[0m, in \u001b[0;36mGroup.__getitem__\u001b[0;34m(self, name)\u001b[0m\n\u001b[1;32m    355\u001b[0m         \u001b[38;5;28;01mraise\u001b[39;00m \u001b[38;5;167;01mValueError\u001b[39;00m(\u001b[38;5;124m\"\u001b[39m\u001b[38;5;124mInvalid HDF5 object reference\u001b[39m\u001b[38;5;124m\"\u001b[39m)\n\u001b[1;32m    356\u001b[0m \u001b[38;5;28;01melif\u001b[39;00m \u001b[38;5;28misinstance\u001b[39m(name, (\u001b[38;5;28mbytes\u001b[39m, \u001b[38;5;28mstr\u001b[39m)):\n\u001b[0;32m--> 357\u001b[0m     oid \u001b[38;5;241m=\u001b[39m \u001b[43mh5o\u001b[49m\u001b[38;5;241;43m.\u001b[39;49m\u001b[43mopen\u001b[49m\u001b[43m(\u001b[49m\u001b[38;5;28;43mself\u001b[39;49m\u001b[38;5;241;43m.\u001b[39;49m\u001b[43mid\u001b[49m\u001b[43m,\u001b[49m\u001b[43m \u001b[49m\u001b[38;5;28;43mself\u001b[39;49m\u001b[38;5;241;43m.\u001b[39;49m\u001b[43m_e\u001b[49m\u001b[43m(\u001b[49m\u001b[43mname\u001b[49m\u001b[43m)\u001b[49m\u001b[43m,\u001b[49m\u001b[43m \u001b[49m\u001b[43mlapl\u001b[49m\u001b[38;5;241;43m=\u001b[39;49m\u001b[38;5;28;43mself\u001b[39;49m\u001b[38;5;241;43m.\u001b[39;49m\u001b[43m_lapl\u001b[49m\u001b[43m)\u001b[49m\n\u001b[1;32m    358\u001b[0m \u001b[38;5;28;01melse\u001b[39;00m:\n\u001b[1;32m    359\u001b[0m     \u001b[38;5;28;01mraise\u001b[39;00m \u001b[38;5;167;01mTypeError\u001b[39;00m(\u001b[38;5;124m\"\u001b[39m\u001b[38;5;124mAccessing a group is done with bytes or str, \u001b[39m\u001b[38;5;124m\"\u001b[39m\n\u001b[1;32m    360\u001b[0m                     \u001b[38;5;124m\"\u001b[39m\u001b[38;5;124mnot \u001b[39m\u001b[38;5;132;01m{}\u001b[39;00m\u001b[38;5;124m\"\u001b[39m\u001b[38;5;241m.\u001b[39mformat(\u001b[38;5;28mtype\u001b[39m(name)))\n",
      "File \u001b[0;32mh5py/_objects.pyx:54\u001b[0m, in \u001b[0;36mh5py._objects.with_phil.wrapper\u001b[0;34m()\u001b[0m\n",
      "File \u001b[0;32mh5py/_objects.pyx:55\u001b[0m, in \u001b[0;36mh5py._objects.with_phil.wrapper\u001b[0;34m()\u001b[0m\n",
      "File \u001b[0;32mh5py/h5o.pyx:190\u001b[0m, in \u001b[0;36mh5py.h5o.open\u001b[0;34m()\u001b[0m\n",
      "\u001b[0;31mKeyError\u001b[0m: \"Unable to open object (object 'image_grappa' doesn't exist)\""
     ]
    }
   ],
   "source": [
    "from pathlib import Path\n",
    "import h5py\n",
    "\n",
    "image_files = list(Path(\"/root/ImageToImage_Grappa/FastMRI_challenge/Data/train/\").iterdir())\n",
    "image_examples = []\n",
    "\n",
    "for fname in sorted(image_files):\n",
    "    with h5py.File(fname, \"r\") as hf:\n",
    "        print(hf.keys()) # ['image_grappa', 'image_input', 'image_label']\n",
    "        print(hf['image_grappa'].shape) # (16, 384, 384)\n",
    "        print(hf['image_input'].shape) # (16, 384, 384)\n",
    "#         print(hf['image_label'].shape) # (16, 384, 384)\n",
    "#         print(fname)\n",
    "#         print(hf.attrs['max'])\n",
    "        print(hf.attrs.keys())\n",
    "#         print(hf['image_grappa'][0])\n",
    "    break\n",
    "\n"
   ]
  },
  {
   "cell_type": "code",
   "execution_count": 9,
   "id": "3da604cb",
   "metadata": {},
   "outputs": [
    {
     "name": "stdout",
     "output_type": "stream",
     "text": [
      "<KeysViewHDF5 ['image_grappa', 'image_input', 'image_label']>\n",
      "(16, 384, 384)\n",
      "(16, 384, 384)\n",
      "0.0006861936585913406\n"
     ]
    }
   ],
   "source": [
    "from pathlib import Path\n",
    "import h5py\n",
    "\n",
    "image_files = list(Path(\"/Data/train/image/\").iterdir())\n",
    "image_examples = []\n",
    "\n",
    "for fname in sorted(image_files):\n",
    "    with h5py.File(fname, \"r\") as hf:\n",
    "        print(hf.keys()) # ['image_grappa', 'image_input', 'image_label']\n",
    "        print(hf['image_grappa'].shape) # (16, 384, 384)\n",
    "        print(hf['image_input'].shape) # (16, 384, 384)\n",
    "#         print(hf['image_label'].shape) # (16, 384, 384)\n",
    "#         print(fname)\n",
    "#         print(hf.attrs['max'])\n",
    "        print(hf.attrs.keys())\n",
    "#         print(hf['image_grappa'][0])\n",
    "    break\n"
   ]
  },
  {
   "cell_type": "code",
   "execution_count": 21,
   "id": "334c1953",
   "metadata": {},
   "outputs": [],
   "source": [
    "read_files = list(Path(\"./Data/train/\").iterdir())\n",
    "file_names = [read_files[i].name for i in range(len(read_files))]\n",
    "\n",
    "for fname in sorted(file_names):\n",
    "    with h5py.File(\"./Data/train/\"+fname, 'w') as wf:\n",
    "        with h5py.File(\"/Data/train/image/\"+fname, 'r') as rf:\n",
    "            for key in rf.attrs.keys():\n",
    "                wf.attrs[key] = rf.attrs[key]\n",
    "\n",
    "read_files = list(Path(\"./Data/val/\").iterdir())\n",
    "file_names = [read_files[i].name for i in range(len(read_files))]\n",
    "\n",
    "for fname in sorted(file_names):\n",
    "    with h5py.File(\"./Data/val/\"+fname, 'w') as wf:\n",
    "        with h5py.File(\"/Data/val/image/\"+fname, 'r') as rf:\n",
    "            for key in rf.attrs.keys():\n",
    "                wf.attrs[key] = rf.attrs[key]"
   ]
  },
  {
   "cell_type": "code",
   "execution_count": 26,
   "id": "f66cc3fc",
   "metadata": {},
   "outputs": [
    {
     "name": "stdout",
     "output_type": "stream",
     "text": [
      "<KeysViewHDF5 []>\n"
     ]
    }
   ],
   "source": [
    "with h5py.File(\"./Data/train_attr/brain_acc4_1.h5\", 'r') as rf:\n",
    "    print(rf.keys())"
   ]
  },
  {
   "cell_type": "code",
   "execution_count": null,
   "id": "fb6da76c",
   "metadata": {},
   "outputs": [],
   "source": []
  }
 ],
 "metadata": {
  "kernelspec": {
   "display_name": "Python 3 (ipykernel)",
   "language": "python",
   "name": "python3"
  },
  "language_info": {
   "codemirror_mode": {
    "name": "ipython",
    "version": 3
   },
   "file_extension": ".py",
   "mimetype": "text/x-python",
   "name": "python",
   "nbconvert_exporter": "python",
   "pygments_lexer": "ipython3",
   "version": "3.8.10"
  }
 },
 "nbformat": 4,
 "nbformat_minor": 5
}
